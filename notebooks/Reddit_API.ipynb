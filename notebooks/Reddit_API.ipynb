{
 "cells": [
  {
   "cell_type": "markdown",
   "metadata": {},
   "source": [
    "## OAuth 2.0 Quick Start Example"
   ]
  },
  {
   "cell_type": "markdown",
   "metadata": {},
   "source": [
    "OAuth 2.0 logoOAuth 2.0 is the industry-standard protocol for authorization. OAuth 2.0 supersedes the work done on the original OAuth protocol created in 2006. OAuth 2.0 focuses on client developer simplicity while providing specific authorization flows for web applications, desktop applications, mobile phones, and living room devices. This specification and its extensions are being developed within the IETF OAuth Working Group.\n",
    "\n",
    "<img src='https://i.ytimg.com/vi/CPbvxxslDTU/maxresdefault.jpg'>"
   ]
  },
  {
   "cell_type": "code",
   "execution_count": 7,
   "metadata": {},
   "outputs": [],
   "source": [
    "import requests\n",
    "import requests.auth\n",
    "from getpass import getpass\n",
    "import pickle as pck"
   ]
  },
  {
   "cell_type": "markdown",
   "metadata": {},
   "source": [
    "## Getting Details"
   ]
  },
  {
   "cell_type": "code",
   "execution_count": 10,
   "metadata": {},
   "outputs": [
    {
     "name": "stdout",
     "output_type": "stream",
     "text": [
      "password········\n",
      "Client ID········\n",
      "Client Secret········\n"
     ]
    }
   ],
   "source": [
    "username = getpass('Username:')\n",
    "password = getpass('Password:')\n",
    "app_client_id = getpass('Client ID:')\n",
    "app_client_secret = getpass('Client Secret:')\n",
    "pck.dump((username, password, app_client_id, app_client_secret), open('user_details.pck', 'wb+'))\n",
    "print('saved (username, password, app_client_id, app_client_secret) in user_details.pck')"
   ]
  },
  {
   "cell_type": "code",
   "execution_count": 12,
   "metadata": {},
   "outputs": [],
   "source": [
    "username, password, app_client_id, app_client_secret = pck.load(open('user_details.pck', 'rb'))"
   ]
  },
  {
   "cell_type": "markdown",
   "metadata": {},
   "source": [
    "## Getting a Token"
   ]
  },
  {
   "cell_type": "code",
   "execution_count": 13,
   "metadata": {},
   "outputs": [
    {
     "data": {
      "text/plain": [
       "{'access_token': '51279179347-ZEPJ7Ka6Z8I17IUHvD5F_UY5KXc',\n",
       " 'token_type': 'bearer',\n",
       " 'expires_in': 3600,\n",
       " 'scope': '*'}"
      ]
     },
     "execution_count": 13,
     "metadata": {},
     "output_type": "execute_result"
    }
   ],
   "source": [
    "client_auth = requests.auth.HTTPBasicAuth(app_client_id, \n",
    "                                          app_client_secret)\n",
    "post_data = {\"grant_type\": \"password\", \n",
    "             \"username\": username, \n",
    "             \"password\": password}\n",
    "headers = {\"User-Agent\": \"ChangeMeClient/0.1 by YourUsername\"}\n",
    "response = requests.post(\"https://www.reddit.com/api/v1/access_token\", \n",
    "                         auth=client_auth, \n",
    "                         data=post_data, \n",
    "                         headers=headers)\n",
    "response.json()"
   ]
  },
  {
   "cell_type": "markdown",
   "metadata": {},
   "source": [
    "## PRAW: The Python Reddit API Wrapper\n",
    "\n",
    "Documentation can be found <a href='https://praw.readthedocs.io/en/latest/index.html'>here</a>."
   ]
  },
  {
   "cell_type": "code",
   "execution_count": 15,
   "metadata": {
    "scrolled": true
   },
   "outputs": [
    {
     "name": "stdout",
     "output_type": "stream",
     "text": [
      "Collecting praw\n",
      "\u001b[?25l  Downloading https://files.pythonhosted.org/packages/87/95/1abd708fce27ba87ca9f17c6e68fe9d287666ad067432a7cd54d46424276/praw-6.3.1-py2.py3-none-any.whl (126kB)\n",
      "\u001b[K     |████████████████████████████████| 133kB 1.5MB/s eta 0:00:01\n",
      "\u001b[?25hCollecting websocket-client>=0.54.0 (from praw)\n",
      "\u001b[?25l  Downloading https://files.pythonhosted.org/packages/29/19/44753eab1fdb50770ac69605527e8859468f3c0fd7dc5a76dd9c4dbd7906/websocket_client-0.56.0-py2.py3-none-any.whl (200kB)\n",
      "\u001b[K     |████████████████████████████████| 204kB 2.7MB/s eta 0:00:01\n",
      "\u001b[?25hCollecting update-checker>=0.16 (from praw)\n",
      "  Downloading https://files.pythonhosted.org/packages/17/c9/ab11855af164d03be0ff4fddd4c46a5bd44799a9ecc1770e01a669c21168/update_checker-0.16-py2.py3-none-any.whl\n",
      "Collecting prawcore<2.0,>=1.0.1 (from praw)\n",
      "  Downloading https://files.pythonhosted.org/packages/76/b5/ce6282dea45cba6f08a30e25d18e0f3d33277e2c9fcbda75644b8dc0089b/prawcore-1.0.1-py2.py3-none-any.whl\n",
      "Requirement already satisfied: six in /Users/louwrenslabuschagne/Documents/gitProjects/meme-feeder/meme_venv/lib/python3.7/site-packages (from websocket-client>=0.54.0->praw) (1.12.0)\n",
      "Requirement already satisfied: requests>=2.3.0 in /Users/louwrenslabuschagne/Documents/gitProjects/meme-feeder/meme_venv/lib/python3.7/site-packages (from update-checker>=0.16->praw) (2.22.0)\n",
      "Requirement already satisfied: idna<2.9,>=2.5 in /Users/louwrenslabuschagne/Documents/gitProjects/meme-feeder/meme_venv/lib/python3.7/site-packages (from requests>=2.3.0->update-checker>=0.16->praw) (2.8)\n",
      "Requirement already satisfied: chardet<3.1.0,>=3.0.2 in /Users/louwrenslabuschagne/Documents/gitProjects/meme-feeder/meme_venv/lib/python3.7/site-packages (from requests>=2.3.0->update-checker>=0.16->praw) (3.0.4)\n",
      "Requirement already satisfied: certifi>=2017.4.17 in /Users/louwrenslabuschagne/Documents/gitProjects/meme-feeder/meme_venv/lib/python3.7/site-packages (from requests>=2.3.0->update-checker>=0.16->praw) (2019.6.16)\n",
      "Requirement already satisfied: urllib3!=1.25.0,!=1.25.1,<1.26,>=1.21.1 in /Users/louwrenslabuschagne/Documents/gitProjects/meme-feeder/meme_venv/lib/python3.7/site-packages (from requests>=2.3.0->update-checker>=0.16->praw) (1.25.3)\n",
      "Installing collected packages: websocket-client, update-checker, prawcore, praw\n",
      "Successfully installed praw-6.3.1 prawcore-1.0.1 update-checker-0.16 websocket-client-0.56.0\n"
     ]
    }
   ],
   "source": [
    "!pip install praw"
   ]
  },
  {
   "cell_type": "code",
   "execution_count": 18,
   "metadata": {},
   "outputs": [],
   "source": [
    "import praw\n",
    "\n",
    "reddit = praw.Reddit(client_id = app_client_id,\n",
    "                     client_secret = app_client_secret,\n",
    "                     user_agent = username)"
   ]
  },
  {
   "cell_type": "markdown",
   "metadata": {},
   "source": [
    "### Read-only Reddit Instances"
   ]
  },
  {
   "cell_type": "code",
   "execution_count": 19,
   "metadata": {},
   "outputs": [
    {
     "name": "stdout",
     "output_type": "stream",
     "text": [
      "True\n"
     ]
    }
   ],
   "source": [
    "print(reddit.read_only)"
   ]
  },
  {
   "cell_type": "code",
   "execution_count": 20,
   "metadata": {},
   "outputs": [
    {
     "name": "stdout",
     "output_type": "stream",
     "text": [
      "Ask Anything Monday - Weekly Thread\n",
      "I want to make python read variables in a video game I play. I don't have access to the api so I was thinking about reading memory logs. How can I do this in python?\n",
      "Seeking Learning Buddy / Mentor\n",
      "What do you struggle the most with (except for python)?\n",
      "Was Recommended to Replace Threads With Asyncio - Absolutely No Idea What's Going On\n",
      "I created a Python script to view a Github repository's file size!\n",
      "Browser-based online text game with Python\n",
      "Extracting characters after certain index in pandas\n",
      "Listing objects\n",
      "Where should encryption occur in end-to-end encryption?\n"
     ]
    }
   ],
   "source": [
    "for submission in reddit.subreddit('learnpython').hot(limit=10):\n",
    "    print(submission.title)"
   ]
  },
  {
   "cell_type": "markdown",
   "metadata": {},
   "source": [
    "### Authorized Reddit Instances"
   ]
  },
  {
   "cell_type": "code",
   "execution_count": 21,
   "metadata": {},
   "outputs": [
    {
     "name": "stdout",
     "output_type": "stream",
     "text": [
      "False\n"
     ]
    }
   ],
   "source": [
    "reddit = praw.Reddit(client_id = app_client_id,\n",
    "                     client_secret = app_client_secret,\n",
    "                     user_agent = username,\n",
    "                     username = username,\n",
    "                     password = password)\n",
    "\n",
    "print(reddit.read_only)  # Output: False"
   ]
  },
  {
   "cell_type": "markdown",
   "metadata": {},
   "source": [
    "### Obtain a Subreddit"
   ]
  },
  {
   "cell_type": "code",
   "execution_count": 22,
   "metadata": {},
   "outputs": [
    {
     "name": "stdout",
     "output_type": "stream",
     "text": [
      "redditdev\n",
      "reddit Development\n",
      "A subreddit for discussion of reddit API clients.\n",
      "\n",
      "* [Read the API Overview & Rules](https://github.com/reddit/reddit/wiki/API)\n",
      "* [Check out the API documentation](http://www.reddit.com/dev/api)\n",
      "* [PRAW chat](https://gitter.im/praw-dev/praw)\n",
      "* [Snoowrap chat](https://gitter.im/not-an-aardvark/snoowrap)\n",
      "* [Join us on IRC: `#reddit-dev` on irc.freenode.net](http://webchat.freenode.net/?channels=reddit-dev)\n",
      "* Please do not request bots here. Consider /r/requestabot instead.\n",
      "\n",
      "\n",
      "Please confine discussion to reddit's API instead of using this as a soapbox to talk to the admins. In particular, use [/r/ideasfortheadmins](/r/ideasfortheadmins) for feature ideas and [/r/bugs](/r/bugs) for bugs. If you have general reddit questions, try [/r/help](/r/help).\n",
      "\n",
      "To see an explanation of recent user-facing changes to reddit (and the code behind them), check out /r/changelog.\n",
      "\n",
      "---\n",
      "\n",
      "To report a security issue with reddit, please send an email to <security@reddit.com> .\n",
      "\n",
      "This is an admin-sponsored subreddit.\n"
     ]
    }
   ],
   "source": [
    "# assume you have a Reddit instance bound to variable `reddit`\n",
    "subreddit = reddit.subreddit('redditdev')\n",
    "\n",
    "print(subreddit.display_name)  # Output: redditdev\n",
    "print(subreddit.title)         # Output: reddit Development\n",
    "print(subreddit.description)   # Output: A subreddit for discussion of ..."
   ]
  },
  {
   "cell_type": "markdown",
   "metadata": {},
   "source": [
    "### Obtain Submission Instances from a Subreddit"
   ]
  },
  {
   "cell_type": "code",
   "execution_count": 44,
   "metadata": {},
   "outputs": [
    {
     "name": "stdout",
     "output_type": "stream",
     "text": [
      "Join the official /r/Meme Discord server!\n",
      "485\n",
      "b7ia84\n",
      "https://discord.gg/GA7B7tg\n",
      "Here I come\n",
      "2576\n",
      "cq7grp\n",
      "https://i.redd.it/nhjtf1b2zdg31.jpg\n",
      "Ha ha classic\n",
      "2218\n",
      "cq6wwz\n",
      "https://i.redd.it/v42o65nzmdg31.jpg\n",
      "Quick\n",
      "956\n",
      "cq8585\n",
      "https://i.redd.it/raxrdd7kceg31.jpg\n"
     ]
    }
   ],
   "source": [
    "# assume you have a Subreddit instance bound to variable `subreddit`\n",
    "for submission in subreddit.hot(limit=4):\n",
    "    print(submission.title)  # Output: the submission's title\n",
    "    print(submission.score)  # Output: the submission's score\n",
    "    print(submission.id)     # Output: the submission's ID\n",
    "    print(submission.url)    # Output: the URL the submission points to\n",
    "                             # or the submission's URL if it's a self post"
   ]
  },
  {
   "cell_type": "markdown",
   "metadata": {},
   "source": [
    "## Getting Image URLs"
   ]
  },
  {
   "cell_type": "code",
   "execution_count": 43,
   "metadata": {},
   "outputs": [
    {
     "name": "stdout",
     "output_type": "stream",
     "text": [
      "https://discord.gg/GA7B7tg\n",
      "https://i.redd.it/nhjtf1b2zdg31.jpg\n",
      "https://i.redd.it/v42o65nzmdg31.jpg\n",
      "https://i.redd.it/raxrdd7kceg31.jpg\n",
      "https://i.redd.it/4le2a0w2adg31.jpg\n",
      "https://i.redd.it/982h07aimdg31.jpg\n",
      "https://i.redd.it/xyvbmsq8dcg31.jpg\n",
      "https://i.redd.it/fb2j40vhidg31.jpg\n",
      "https://i.redd.it/65bod4sn0cg31.jpg\n",
      "https://i.redd.it/hlw66256wbg31.jpg\n"
     ]
    }
   ],
   "source": [
    "subreddit = reddit.subreddit('Meme')\n",
    "posts = subreddit.hot(limit=10)\n",
    "for post in posts:\n",
    "    url = (post.url)\n",
    "    print(url)"
   ]
  },
  {
   "cell_type": "code",
   "execution_count": null,
   "metadata": {},
   "outputs": [],
   "source": []
  }
 ],
 "metadata": {
  "kernelspec": {
   "display_name": "Python 3",
   "language": "python",
   "name": "python3"
  },
  "language_info": {
   "codemirror_mode": {
    "name": "ipython",
    "version": 3
   },
   "file_extension": ".py",
   "mimetype": "text/x-python",
   "name": "python",
   "nbconvert_exporter": "python",
   "pygments_lexer": "ipython3",
   "version": "3.7.4"
  }
 },
 "nbformat": 4,
 "nbformat_minor": 2
}
